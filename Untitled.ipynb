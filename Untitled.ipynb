{
 "cells": [
  {
   "cell_type": "code",
   "execution_count": 1,
   "metadata": {},
   "outputs": [],
   "source": [
    "from numpy import genfromtxt\n",
    "from time import time\n",
    "from datetime import datetime\n",
    "from sqlalchemy import Column, Integer, Float, Date, String, VARCHAR\n",
    "from sqlalchemy.ext.declarative import declarative_base\n",
    "from sqlalchemy import create_engine\n",
    "from sqlalchemy.orm import session\n",
    "import csv\n",
    "import pandas as pd\n",
    "\n"
   ]
  },
  {
   "cell_type": "code",
   "execution_count": 2,
   "metadata": {},
   "outputs": [],
   "source": [
    "Base = declarative_base()\n",
    "\n"
   ]
  },
  {
   "cell_type": "code",
   "execution_count": 3,
   "metadata": {},
   "outputs": [],
   "source": [
    "# class system (Base):\n",
    "#     __tablename__ = 'system'\n",
    "#     STOP_ID = Column(Integer, primary_key=True, nullable=False)\n",
    "#     DIRECTION_ID = Column(String)\n",
    "#     STOP_NAME = Column(String)\n",
    "#     STATION_NAME = Column(String)\n",
    "#     STATION_DESCRIPTIVE_NAME = Column(String)\n",
    "#     MAP = Column(Integer)\n",
    "#     ADA = Column(Integer)\n",
    "#     RED = Column(Integer)\n",
    "#     BLUE = Column(Integer)\n",
    "#     G = Column(Integer)\n",
    "#     BRN = Column(Integer)\n",
    "#     P = Column(Integer)\n",
    "#     PEXP = Column(Integer)\n",
    "#     Y = Column(Integer)\n",
    "#     PINK = Column(Integer)\n",
    "#     O = Column(Integer)\n",
    "#     Location = Column(String)\n"
   ]
  },
  {
   "cell_type": "code",
   "execution_count": 4,
   "metadata": {},
   "outputs": [],
   "source": [
    "engine = create_engine('sqlite:///system.db')\n",
    "Base.metadata.create_all(engine)\n",
    "file_name = 'CTA_-_System_Information_-_List_of__L__Stops.csv'\n",
    "df = pd.read_csv(file_name)\n",
    "\n",
    "df.to_sql('system', con=engine, index_label='id', if_exists='replace')\n"
   ]
  },
  {
   "cell_type": "code",
   "execution_count": null,
   "metadata": {},
   "outputs": [],
   "source": []
  },
  {
   "cell_type": "code",
   "execution_count": 5,
   "metadata": {},
   "outputs": [],
   "source": [
    "from sqlalchemy.orm import Session\n",
    "engine = create_engine(\"sqlite:///system.db\")\n",
    "conn = engine.connect()\n",
    "Base.metadata.create_all(engine)\n",
    "\n",
    "session = Session(bind=engine)\n"
   ]
  },
  {
   "cell_type": "code",
   "execution_count": 6,
   "metadata": {},
   "outputs": [
    {
     "data": {
      "text/plain": [
       "[(0, 30162, 'W', '18th (54th/Cermak-bound)', '18th', '18th (Pink Line)', 40830, 1, 0, 0, 0, 0, 0, 0, 0, 1, 0, '(41.857908, -87.669147)', 8.0, '14,920', 33.0, 343.0, 26.0),\n",
       " (1, 30161, 'E', '18th (Loop-bound)', '18th', '18th (Pink Line)', 40830, 1, 0, 0, 0, 0, 0, 0, 0, 1, 0, '(41.857908, -87.669147)', 8.0, '14,920', 33.0, 343.0, 26.0)]"
      ]
     },
     "execution_count": 6,
     "metadata": {},
     "output_type": "execute_result"
    }
   ],
   "source": [
    "\n",
    "engine.execute(\"SELECT * FROM system WHERE MAP_ID = 40830\").fetchall()"
   ]
  }
 ],
 "metadata": {
  "kernelspec": {
   "display_name": "Python 3",
   "language": "python",
   "name": "python3"
  },
  "language_info": {
   "codemirror_mode": {
    "name": "ipython",
    "version": 3
   },
   "file_extension": ".py",
   "mimetype": "text/x-python",
   "name": "python",
   "nbconvert_exporter": "python",
   "pygments_lexer": "ipython3",
   "version": "3.7.3"
  }
 },
 "nbformat": 4,
 "nbformat_minor": 2
}
